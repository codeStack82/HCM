{
 "cells": [
  {
   "cell_type": "code",
   "execution_count": 7,
   "metadata": {
    "collapsed": false
   },
   "outputs": [
    {
     "name": "stdout",
     "output_type": "stream",
     "text": [
      "('658840', )\n",
      "[('658565', 'BOZICH 28-7-2 5H', 'APPALACHIA SOUTH'), ('838730', 'SCHIAPPA TRUST A 27-7-2 3H', 'APPALACHIA SOUTH'), ('658648', 'PGE BROWNE P 1H', 'EAGLE FORD'), ('658837', 'VESPER UNIT III DIM E 3H', 'EAGLE FORD'), ('659164', 'VESPER UNIT II DIM G 3H', 'EAGLE FORD'), ('659484', 'PGE BROWNE Q 4H', 'EAGLE FORD'), ('646138', 'VESPER UNIT I DIM F 1H', 'EAGLE FORD'), ('658396', 'VESPER UNIT IV DIM H 3H', 'EAGLE FORD'), ('658417', 'BSNR 12&1-12-12 1H ALT', 'GULF COAST'), ('658420', 'BSNR 12&1-12-12 4H ALT', 'GULF COAST'), ('656975', 'WFP 22&15-15-15 1H ALT', 'GULF COAST'), ('658391', 'PATTON 25&24-26-11 1H', 'MID-CONTINENT'), ('658497', 'CURTIS 29-18-6 2H', 'MID-CONTINENT'), ('659381', 'CITRA 9&4-20-12 2H', 'MID-CONTINENT'), ('658843', 'VADDER TRUST 8-18-5 1H', 'MID-CONTINENT'), ('658605', 'OK STATE 18-17-6 3H', 'MID-CONTINENT'), ('645727', 'COMBS 16-33-70 USA B SX 15H', 'POWDER RIVER'), ('653222', 'COMBS 7-33-70 USA C SX 12H', 'POWDER RIVER')]\n"
     ]
    }
   ],
   "source": [
    "#Python libraries\n",
    "import pyodbc \n",
    "\n",
    "#Database connections\n",
    "WV_con = pyodbc.connect(\"DSN=SQL_R_WV\")\n",
    "CHKShot_conn = pyodbc.connect(\"DSN=SQL_R_CHKShot\")\n",
    "VuMax_con = pyodbc.connect(driver='{SQL Server}',\n",
    "                            server='OKCSQLPRD1021', \n",
    "                            database='VuMaxDR',               \n",
    "                            uid=\"Vmx_vumaxadmin\",\n",
    "                            pwd=\"vumaxadmin\",\n",
    "                            trusted_connection=\"no\")\n",
    "CHKShot_conn = pyodbc.connect(\"DSN=SQL_R_CHKShot\")\n",
    "\n",
    "#Wellview db con test\n",
    "con = WV_con.cursor()\n",
    "con.execute(\"Select wellidc From wvt_wvwellheader where wellidc='658840'\")\n",
    "data = con.fetchone()\n",
    "WV_con.close();\n",
    "print(data)\n",
    "\n",
    "#VuMax db con test\n",
    "con = VuMax_con.cursor()\n",
    "con.execute(\"SELECT  dswell.[WELL_ID] as PN ,well.WELL_NAME as Well_Name, Upper(well.DISTRICT) as District FROM VMX_DS_WELL_PROFILE dsWell Left Outer join  [VuMaxDR].[dbo].[VMX_WELL] well on dswell.[WELL_ID] = well.WELL_ID Order by District Asc\")\n",
    "\n",
    "data = con.fetchall()\n",
    "VuMax_con.close();\n",
    "\n",
    "print(data)\n",
    "    "
   ]
  },
  {
   "cell_type": "code",
   "execution_count": null,
   "metadata": {
    "collapsed": true
   },
   "outputs": [],
   "source": []
  }
 ],
 "metadata": {
  "kernelspec": {
   "display_name": "Python 3",
   "language": "python",
   "name": "python3"
  },
  "language_info": {
   "codemirror_mode": {
    "name": "ipython",
    "version": 3
   },
   "file_extension": ".py",
   "mimetype": "text/x-python",
   "name": "python",
   "nbconvert_exporter": "python",
   "pygments_lexer": "ipython3",
   "version": "3.6.0"
  }
 },
 "nbformat": 4,
 "nbformat_minor": 2
}
